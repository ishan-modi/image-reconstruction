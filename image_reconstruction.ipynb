{
 "cells": [
  {
   "cell_type": "code",
   "execution_count": null,
   "metadata": {},
   "outputs": [],
   "source": [
    "from sklearn.datasets import fetch_olivetti_faces\n",
    "import numpy as np\n",
    "from numpy.linalg import eig\n",
    "from collections import OrderedDict\n",
    "import matplotlib.pyplot as plt"
   ]
  },
  {
   "cell_type": "code",
   "execution_count": 14,
   "metadata": {},
   "outputs": [],
   "source": [
    "def zscore(m):\n",
    "    return ((m.T-np.mean(m,axis=1))/np.reciprocal(np.std(m,axis=1))).T\n",
    "\n",
    "def pca(matrix,shape):\n",
    "    matrix = np.dot(matrix.T,matrix)/shape[0]\n",
    "    values,vectors=eig(matrix)\n",
    "    \n",
    "    res = {values[i]: vectors[i] for i in range(len(values))}\n",
    "    \n",
    "    od=OrderedDict(sorted(res.items(),reverse=True))\n",
    "  \n",
    "    return od\n",
    "\n",
    "def show_img(vector):\n",
    "  img_data = vector.reshape((64,64))\n",
    "  plt.imshow(img_data,cmap='gray')\n",
    "  plt.show()\n",
    "\n",
    "def find_alphas(data,base_faces):\n",
    "  matrix=np.empty((len(data),len(base_faces)))\n",
    "  for i in range(len(matrix)):\n",
    "    for j in range(len(matrix[0])):\n",
    "      matrix[i,j]=np.dot(data[i].T,base_faces[j])\n",
    "  return matrix\n",
    "\n",
    "def reconstruction(alphas,base_faces):\n",
    "  plt.figure(figsize=(5,5)) \n",
    "  \n",
    "  for i in range(25):\n",
    "    if(i==0):\n",
    "      temp=base_faces[i]*alphas[i]\n",
    "    else:\n",
    "      temp+=base_faces[i]*alphas[i]\n",
    "    \n",
    "    #temp=zscore(temp.reshape((1,temp.shape[0]))).reshape(-1)\n",
    "    #plt.subplot(5,5,i+1)    \n",
    "  \n",
    "  show_img(temp)\n",
    "\n",
    "  #plt.show()"
   ]
  },
  {
   "cell_type": "code",
   "execution_count": 15,
   "metadata": {},
   "outputs": [
    {
     "output_type": "stream",
     "name": "stdout",
     "text": [
      "(400, 64, 64)\n"
     ]
    }
   ],
   "source": [
    "olivetti = fetch_olivetti_faces()\n",
    "\n",
    "data = olivetti.images\n",
    "shape=data.shape\n",
    "print(shape)\n",
    "\n",
    "data = zscore(data.reshape(shape[0],shape[1]*shape[2]))\n",
    "base_faces = pca(data,shape)"
   ]
  },
  {
   "cell_type": "code",
   "execution_count": null,
   "metadata": {},
   "outputs": [],
   "source": [
    "show_img(data[0])\n",
    "print(data[0])"
   ]
  },
  {
   "cell_type": "code",
   "execution_count": null,
   "metadata": {},
   "outputs": [],
   "source": [
    "base_faces=[base_faces[i] for i in list(base_faces)[:25]]"
   ]
  },
  {
   "cell_type": "code",
   "execution_count": null,
   "metadata": {},
   "outputs": [],
   "source": [
    "for i in range(25):   \n",
    "    show_img(base_faces[i])"
   ]
  },
  {
   "cell_type": "code",
   "execution_count": null,
   "metadata": {},
   "outputs": [],
   "source": [
    "alphas = find_alphas(data,base_faces)\n",
    "number = int(input(\"Enter face number\"))\n",
    "reconstruction(alphas[number],base_faces)"
   ]
  }
 ],
 "metadata": {
  "kernelspec": {
   "name": "Python 3.8.3 64-bit ('base': conda)",
   "display_name": "Python 3.8.3 64-bit ('base': conda)",
   "metadata": {
    "interpreter": {
     "hash": "b3ba2566441a7c06988d0923437866b63cedc61552a5af99d1f4fb67d367b25f"
    }
   }
  },
  "language_info": {
   "codemirror_mode": {
    "name": "ipython",
    "version": 3
   },
   "file_extension": ".py",
   "mimetype": "text/x-python",
   "name": "python",
   "nbconvert_exporter": "python",
   "pygments_lexer": "ipython3",
   "version": "3.8.5-final"
  }
 },
 "nbformat": 4,
 "nbformat_minor": 4
}