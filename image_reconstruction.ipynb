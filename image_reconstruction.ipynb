{
 "cells": [
  {
   "cell_type": "code",
   "execution_count": 25,
   "metadata": {},
   "outputs": [],
   "source": [
    "from sklearn.datasets import fetch_olivetti_faces\n",
    "import numpy as np\n",
    "from numpy.linalg import eig\n",
    "from collections import OrderedDict"
   ]
  },
  {
   "cell_type": "code",
   "execution_count": 26,
   "metadata": {},
   "outputs": [],
   "source": [
    "def zscore(m):\n",
    "    temp = (m.T-np.mean(m,axis=1)).T\n",
    "    return temp * np.reciprocal(np.std(m,axis=1))[:, None]\n",
    "\n",
    "def pca(matrix,shape):\n",
    "    matrix = (matrix*matrix.T)/shape[0]\n",
    "    values,vectors=eig(matrix)\n",
    "    \n",
    "    res = {values[i]: vectors[i] for i in range(len(values))}\n",
    "    \n",
    "    od=OrderedDict(sorted(res.items()))\n",
    "    print(od)\n",
    "    \n",
    "    return od"
   ]
  },
  {
   "cell_type": "code",
   "execution_count": 27,
   "metadata": {},
   "outputs": [
    {
     "output_type": "execute_result",
     "data": {
      "text/plain": [
       "array([[-2.1883726, -1.801133 , -1.4692134, ..., -3.2394516, -3.1841316,\n",
       "        -3.2117915],\n",
       "       [-0.7069806, -0.6203296, -0.4037018, ..., -2.2883635, -2.2883635,\n",
       "        -2.2883635],\n",
       "       [-1.8426679, -1.3427974, -0.7929399, ..., -2.9173894, -2.8674023,\n",
       "        -2.842409 ]], dtype=float32)"
      ]
     },
     "metadata": {},
     "execution_count": 27
    }
   ],
   "source": [
    "olivetti = fetch_olivetti_faces()\n",
    "\n",
    "data = olivetti.images\n",
    "shape=data.shape\n",
    "\n",
    "data1 = zscore(data.reshape(shape[0],shape[1]*shape[2]))\n",
    "\n"
   ]
  },
  {
   "cell_type": "code",
   "execution_count": null,
   "metadata": {},
   "outputs": [],
   "source": []
  }
 ],
 "metadata": {
  "kernelspec": {
   "name": "Python 3.8.3 64-bit ('base': conda)",
   "display_name": "Python 3.8.3 64-bit ('base': conda)",
   "metadata": {
    "interpreter": {
     "hash": "b3ba2566441a7c06988d0923437866b63cedc61552a5af99d1f4fb67d367b25f"
    }
   }
  },
  "language_info": {
   "codemirror_mode": {
    "name": "ipython",
    "version": 3
   },
   "file_extension": ".py",
   "mimetype": "text/x-python",
   "name": "python",
   "nbconvert_exporter": "python",
   "pygments_lexer": "ipython3",
   "version": "3.8.3-final"
  }
 },
 "nbformat": 4,
 "nbformat_minor": 4
}